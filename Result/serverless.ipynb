{
 "cells": [
  {
   "cell_type": "code",
   "execution_count": null,
   "id": "801a0982",
   "metadata": {},
   "outputs": [
    {
     "ename": "",
     "evalue": "",
     "output_type": "error",
     "traceback": [
      "\u001b[1;31mJupyter cannot be started. Error attempting to locate Jupyter: Select an Interpreter to start Jupyter\n",
      "\u001b[1;31mRun the following command to install 'jupyter and notebook' into the Python environment. \n",
      "\u001b[1;31mCommand: 'python -m pip install jupyter notebook -U\n",
      "\u001b[1;31mor\n",
      "\u001b[1;31mconda install jupyter notebook -U'\n",
      "\u001b[1;31mClick <a href='https://aka.ms/installJupyterForVSCode'>here</a> for more info."
     ]
    }
   ],
   "source": [
    "import matplotlib.pyplot as plot\n",
    "import csv"
   ]
  },
  {
   "cell_type": "code",
   "execution_count": null,
   "id": "f1f7b573",
   "metadata": {},
   "outputs": [
    {
     "ename": "",
     "evalue": "",
     "output_type": "error",
     "traceback": [
      "\u001b[1;31mJupyter cannot be started. Error attempting to locate Jupyter: Select an Interpreter to start Jupyter\n",
      "\u001b[1;31mRun the following command to install 'jupyter and notebook' into the Python environment. \n",
      "\u001b[1;31mCommand: 'python -m pip install jupyter notebook -U\n",
      "\u001b[1;31mor\n",
      "\u001b[1;31mconda install jupyter notebook -U'\n",
      "\u001b[1;31mClick <a href='https://aka.ms/installJupyterForVSCode'>here</a> for more info."
     ]
    }
   ],
   "source": [
    "ram_null_state = []\n",
    "cpu_null_state = []\n",
    "power_null_state = []\n",
    "ram_warm_disk_state = []\n",
    "cpu_warm_disk_state = []\n",
    "power_warm_disk_state = []\n",
    "ram_warm_cpu_state = []\n",
    "cpu_warm_cpu_state = []\n",
    "power_warm_cpu_state = []\n",
    "ram_active_state = []\n",
    "cpu_active_state = []\n",
    "power_active_state = []\n",
    "ram_cold_state = []\n",
    "cpu_cold_state = []\n",
    "power_cold_state = []\n",
    "with open('data_prom_target_pod_1_repeat_time_1_type_detection_13_1_2023_11h51.csv', newline='') as csvfile:\n",
    "    spamreader = csv.reader(csvfile, delimiter=',', quotechar='|')\n",
    "    for row in spamreader:\n",
    "        if row[6] == \"null_state\":\n",
    "            power_null_state.append(float(row[3]))\n",
    "            cpu_null_state.append(float(row[4]))\n",
    "            ram_null_state.append(float(row[5]))\n",
    "        elif row[6] == \"warm_disk_state\":\n",
    "            power_warm_disk_state.append(float(row[3]))\n",
    "            cpu_warm_disk_state.append(float(row[4]))\n",
    "            ram_warm_disk_state.append(float(row[5]))\n",
    "        elif row[6] == \"warm_cpu_state\":\n",
    "            power_warm_cpu_state.append(float(row[3]))\n",
    "            cpu_warm_cpu_state.append(float(row[4]))\n",
    "            ram_warm_cpu_state.append(float(row[5]))\n",
    "        elif row[6] == \"active_state\":\n",
    "            power_active_state.append(float(row[3]))\n",
    "            cpu_active_state.append(float(row[4]))\n",
    "            ram_active_state.append(float(row[5]))\n",
    "        elif row[6] == \"cold_state\":\n",
    "            power_cold_state.append(float(row[3]))\n",
    "            cpu_cold_state.append(float(row[4]))\n",
    "            ram_cold_state.append(float(row[5]))"
   ]
  },
  {
   "cell_type": "code",
   "execution_count": null,
   "id": "f9ec8989",
   "metadata": {},
   "outputs": [
    {
     "ename": "",
     "evalue": "",
     "output_type": "error",
     "traceback": [
      "\u001b[1;31mJupyter cannot be started. Error attempting to locate Jupyter: Select an Interpreter to start Jupyter\n",
      "\u001b[1;31mRun the following command to install 'jupyter and notebook' into the Python environment. \n",
      "\u001b[1;31mCommand: 'python -m pip install jupyter notebook -U\n",
      "\u001b[1;31mor\n",
      "\u001b[1;31mconda install jupyter notebook -U'\n",
      "\u001b[1;31mClick <a href='https://aka.ms/installJupyterForVSCode'>here</a> for more info."
     ]
    }
   ],
   "source": [
    "ram_warm_mem_state = []\n",
    "cpu_warm_mem_state = []\n",
    "power_warm_mem_state = []\n",
    "with open('freeze_mem_state_result.csv', newline='') as csvfile:\n",
    "    spamreader = csv.reader(csvfile, delimiter=',', quotechar='|')\n",
    "    for row in spamreader:\n",
    "        if row[6] == \"warm_mem_state\":\n",
    "            power_warm_mem_state.append(float(row[3]))\n",
    "            cpu_warm_mem_state.append(float(row[4]))\n",
    "            ram_warm_mem_state.append(float(row[5]))"
   ]
  },
  {
   "cell_type": "code",
   "execution_count": null,
   "id": "9b05e531",
   "metadata": {},
   "outputs": [
    {
     "ename": "",
     "evalue": "",
     "output_type": "error",
     "traceback": [
      "\u001b[1;31mJupyter cannot be started. Error attempting to locate Jupyter: Select an Interpreter to start Jupyter\n",
      "\u001b[1;31mRun the following command to install 'jupyter and notebook' into the Python environment. \n",
      "\u001b[1;31mCommand: 'python -m pip install jupyter notebook -U\n",
      "\u001b[1;31mor\n",
      "\u001b[1;31mconda install jupyter notebook -U'\n",
      "\u001b[1;31mClick <a href='https://aka.ms/installJupyterForVSCode'>here</a> for more info."
     ]
    }
   ],
   "source": [
    "\n",
    "data = [power_null_state, power_warm_disk_state,\n",
    "        power_warm_cpu_state, power_warm_mem_state, power_active_state, power_cold_state]\n",
    "fig1, ax1 = plot.subplots()\n",
    "ax1.set_title('Power in states')\n",
    "ax1.set_ylabel(\"Power(W)\")\n",
    "ax1.boxplot(data, labels=[\"null\", \"warm_disk\",\n",
    "            \"warm_cpu\", \"warm_mem\", \"active\", \"cold\"])\n",
    "plot.show()\n"
   ]
  },
  {
   "cell_type": "code",
   "execution_count": null,
   "id": "724c18d2",
   "metadata": {},
   "outputs": [
    {
     "ename": "",
     "evalue": "",
     "output_type": "error",
     "traceback": [
      "\u001b[1;31mJupyter cannot be started. Error attempting to locate Jupyter: Select an Interpreter to start Jupyter\n",
      "\u001b[1;31mRun the following command to install 'jupyter and notebook' into the Python environment. \n",
      "\u001b[1;31mCommand: 'python -m pip install jupyter notebook -U\n",
      "\u001b[1;31mor\n",
      "\u001b[1;31mconda install jupyter notebook -U'\n",
      "\u001b[1;31mClick <a href='https://aka.ms/installJupyterForVSCode'>here</a> for more info."
     ]
    }
   ],
   "source": [
    "data = [cpu_null_state, cpu_warm_disk_state,\n",
    "        cpu_warm_cpu_state, cpu_warm_mem_state, cpu_active_state, cpu_cold_state]\n",
    "fig2, ax2 = plot.subplots()\n",
    "ax2.set_title('CPU in states')\n",
    "ax2.set_ylabel(\"CPU\")\n",
    "ax2.boxplot(data, labels=[\"null\", \"warm_disk\",\n",
    "            \"warm_cpu\", \"warm_mem\", \"active\", \"cold\"])\n",
    "plot.show()\n"
   ]
  },
  {
   "cell_type": "code",
   "execution_count": null,
   "id": "c1084219",
   "metadata": {},
   "outputs": [
    {
     "ename": "",
     "evalue": "",
     "output_type": "error",
     "traceback": [
      "\u001b[1;31mJupyter cannot be started. Error attempting to locate Jupyter: Select an Interpreter to start Jupyter\n",
      "\u001b[1;31mRun the following command to install 'jupyter and notebook' into the Python environment. \n",
      "\u001b[1;31mCommand: 'python -m pip install jupyter notebook -U\n",
      "\u001b[1;31mor\n",
      "\u001b[1;31mconda install jupyter notebook -U'\n",
      "\u001b[1;31mClick <a href='https://aka.ms/installJupyterForVSCode'>here</a> for more info."
     ]
    }
   ],
   "source": [
    "data = [ram_null_state, ram_warm_disk_state,\n",
    "        ram_warm_cpu_state, ram_warm_mem_state, ram_active_state, ram_cold_state]\n",
    "fig3, ax3 = plot.subplots()\n",
    "ax3.set_title('RAM in states')\n",
    "ax3.set_ylabel(\"RAM(%)\")\n",
    "ax3.boxplot(data, labels=[\"null\", \"warm_disk\",\n",
    "            \"warm_cpu\", \"warm_mem\", \"active\", \"cold\"])\n",
    "plot.show()\n"
   ]
  },
  {
   "cell_type": "code",
   "execution_count": null,
   "id": "d8091164",
   "metadata": {},
   "outputs": [
    {
     "ename": "",
     "evalue": "",
     "output_type": "error",
     "traceback": [
      "\u001b[1;31mJupyter cannot be started. Error attempting to locate Jupyter: Select an Interpreter to start Jupyter\n",
      "\u001b[1;31mRun the following command to install 'jupyter and notebook' into the Python environment. \n",
      "\u001b[1;31mCommand: 'python -m pip install jupyter notebook -U\n",
      "\u001b[1;31mor\n",
      "\u001b[1;31mconda install jupyter notebook -U'\n",
      "\u001b[1;31mClick <a href='https://aka.ms/installJupyterForVSCode'>here</a> for more info."
     ]
    }
   ],
   "source": [
    "power_null_to_warm_disk_process = []\n",
    "cpu_null_to_warm_disk_process = []\n",
    "ram_null_to_warm_disk_process = []\n",
    "power_warm_disk_to_warm_cpu_process = []\n",
    "cpu_warm_disk_to_warm_cpu_process = []\n",
    "ram_warm_disk_to_warm_cpu_process = []\n",
    "power_warm_cpu_to_warm_disk_process = []\n",
    "cpu_warm_cpu_to_warm_disk_process = []\n",
    "ram_warm_cpu_to_warm_disk_process = []\n",
    "power_cold_to_warm_disk_process = []\n",
    "cpu_cold_to_warm_disk_process = []\n",
    "ram_cold_to_warm_disk_process = []\n",
    "power_warm_disk_to_null_process = []\n",
    "cpu_warm_disk_to_null_process = []\n",
    "ram_warm_disk_to_null_process = []\n",
    "\n",
    "with open('data_prom_target_pod_1_repeat_time_1_type_detection_13_1_2023_11h51.csv', newline='') as csvfile:\n",
    "    spamreader = csv.reader(csvfile, delimiter=',', quotechar='|')\n",
    "    for row in spamreader:\n",
    "        if row[6] == \"null_to_warm_disk_process\":\n",
    "            power_null_to_warm_disk_process.append(float(row[3]))\n",
    "            cpu_null_to_warm_disk_process.append(float(row[4]))\n",
    "            ram_null_to_warm_disk_process.append(float(row[5]))\n",
    "        if row[6] == \"warm_disk_to_warm_cpu_process\":\n",
    "            power_warm_disk_to_warm_cpu_process.append(float(row[3]))\n",
    "            cpu_warm_disk_to_warm_cpu_process.append(float(row[4]))\n",
    "            ram_warm_disk_to_warm_cpu_process.append(float(row[5]))\n",
    "        if row[6] == \"warm_cpu_to_warm_disk_process\":\n",
    "            power_warm_cpu_to_warm_disk_process.append(float(row[3]))\n",
    "            cpu_warm_cpu_to_warm_disk_process.append(float(row[4]))\n",
    "            ram_warm_cpu_to_warm_disk_process.append(float(row[5]))\n",
    "        if row[6] == \"cold_to_warm_disk_process\":\n",
    "            power_cold_to_warm_disk_process.append(float(row[3]))\n",
    "            cpu_cold_to_warm_disk_process.append(float(row[4]))\n",
    "            ram_cold_to_warm_disk_process.append(float(row[5]))\n",
    "        if row[6] == \"warm_disk_to_null_process\":\n",
    "            power_warm_disk_to_null_process.append(float(row[3]))\n",
    "            cpu_warm_disk_to_null_process.append(float(row[4]))\n",
    "            ram_warm_disk_to_null_process.append(float(row[5]))"
   ]
  },
  {
   "cell_type": "code",
   "execution_count": null,
   "id": "eb0f3f05",
   "metadata": {},
   "outputs": [
    {
     "ename": "",
     "evalue": "",
     "output_type": "error",
     "traceback": [
      "\u001b[1;31mJupyter cannot be started. Error attempting to locate Jupyter: Select an Interpreter to start Jupyter\n",
      "\u001b[1;31mRun the following command to install 'jupyter and notebook' into the Python environment. \n",
      "\u001b[1;31mCommand: 'python -m pip install jupyter notebook -U\n",
      "\u001b[1;31mor\n",
      "\u001b[1;31mconda install jupyter notebook -U'\n",
      "\u001b[1;31mClick <a href='https://aka.ms/installJupyterForVSCode'>here</a> for more info."
     ]
    }
   ],
   "source": [
    "data = [power_null_to_warm_disk_process, power_warm_disk_to_warm_cpu_process,\n",
    "        power_warm_cpu_to_warm_disk_process, power_cold_to_warm_disk_process, power_warm_disk_to_null_process]\n",
    "fig4, ax4 = plot.subplots()\n",
    "ax4.set_title('Power in process')\n",
    "ax4.set_ylabel(\"Power(W)\")\n",
    "plot.xticks(rotation = 20)\n",
    "ax4.boxplot(data, labels=[\"null to warm disk\", \"warm disk to warm cpu\",\n",
    "            \"warm cpu to warm disk\", \"cold to warm disk\", \"warm disk to null\"])\n",
    "plot.show()\n"
   ]
  },
  {
   "cell_type": "code",
   "execution_count": null,
   "id": "b2868fa6",
   "metadata": {},
   "outputs": [
    {
     "ename": "",
     "evalue": "",
     "output_type": "error",
     "traceback": [
      "\u001b[1;31mJupyter cannot be started. Error attempting to locate Jupyter: Select an Interpreter to start Jupyter\n",
      "\u001b[1;31mRun the following command to install 'jupyter and notebook' into the Python environment. \n",
      "\u001b[1;31mCommand: 'python -m pip install jupyter notebook -U\n",
      "\u001b[1;31mor\n",
      "\u001b[1;31mconda install jupyter notebook -U'\n",
      "\u001b[1;31mClick <a href='https://aka.ms/installJupyterForVSCode'>here</a> for more info."
     ]
    }
   ],
   "source": [
    "data = [cpu_null_to_warm_disk_process, cpu_warm_disk_to_warm_cpu_process,\n",
    "        cpu_warm_cpu_to_warm_disk_process, cpu_cold_to_warm_disk_process, cpu_warm_disk_to_null_process]\n",
    "fig5, ax5 = plot.subplots()\n",
    "ax5.set_title('CPU in process')\n",
    "ax5.set_ylabel(\"CPU\")\n",
    "plot.xticks(rotation = 20)\n",
    "ax5.boxplot(data, labels=[\"null to warm disk\", \"warm disk to warm cpu\",\n",
    "            \"warm cpu to warm disk\", \"cold to warm disk\", \"warm disk to null\"])\n",
    "plot.show()"
   ]
  },
  {
   "cell_type": "code",
   "execution_count": null,
   "id": "d9825226",
   "metadata": {},
   "outputs": [
    {
     "ename": "",
     "evalue": "",
     "output_type": "error",
     "traceback": [
      "\u001b[1;31mJupyter cannot be started. Error attempting to locate Jupyter: Select an Interpreter to start Jupyter\n",
      "\u001b[1;31mRun the following command to install 'jupyter and notebook' into the Python environment. \n",
      "\u001b[1;31mCommand: 'python -m pip install jupyter notebook -U\n",
      "\u001b[1;31mor\n",
      "\u001b[1;31mconda install jupyter notebook -U'\n",
      "\u001b[1;31mClick <a href='https://aka.ms/installJupyterForVSCode'>here</a> for more info."
     ]
    }
   ],
   "source": [
    "data = [ram_null_to_warm_disk_process, ram_warm_disk_to_warm_cpu_process,\n",
    "        ram_warm_cpu_to_warm_disk_process, ram_cold_to_warm_disk_process, ram_warm_disk_to_null_process]\n",
    "fig6, ax6 = plot.subplots()\n",
    "ax6.set_title('RAM in process')\n",
    "ax6.set_ylabel(\"RAM(%)\")\n",
    "plot.xticks(rotation = 20)\n",
    "ax6.boxplot(data, labels=[\"null to warm disk\", \"warm disk to warm cpu\",\n",
    "            \"warm cpu to warm disk\", \"cold to warm disk\", \"warm disk to null\"])\n",
    "plot.show()"
   ]
  },
  {
   "cell_type": "code",
   "execution_count": null,
   "id": "de9766e9",
   "metadata": {},
   "outputs": [
    {
     "ename": "",
     "evalue": "",
     "output_type": "error",
     "traceback": [
      "\u001b[1;31mJupyter cannot be started. Error attempting to locate Jupyter: Select an Interpreter to start Jupyter\n",
      "\u001b[1;31mRun the following command to install 'jupyter and notebook' into the Python environment. \n",
      "\u001b[1;31mCommand: 'python -m pip install jupyter notebook -U\n",
      "\u001b[1;31mor\n",
      "\u001b[1;31mconda install jupyter notebook -U'\n",
      "\u001b[1;31mClick <a href='https://aka.ms/installJupyterForVSCode'>here</a> for more info."
     ]
    }
   ],
   "source": [
    "power_null_to_warm_disk_process = []\n",
    "power_warm_disk_to_warm_cpu_process = []\n",
    "power_warm_cpu_to_warm_disk_process = []\n",
    "power_cold_to_warm_disk_process = []\n",
    "power_warm_disk_to_null_process = []\n",
    "with open('data_prom_target_pod_1_repeat_time_1_type_detection_13_1_2023_11h51.csv', newline='') as csvfile:\n",
    "    spamreader = csv.reader(csvfile, delimiter=',', quotechar='|')\n",
    "    for row in spamreader:\n",
    "        if row[6] == \"null_to_warm_disk_process\":\n",
    "            power_null_to_warm_disk_process.append([float(row[0]),float(row[3])])\n",
    "        if row[6] == \"warm_disk_to_warm_cpu_process\":\n",
    "            power_warm_disk_to_warm_cpu_process.append([float(row[0]),float(row[3])])\n",
    "        if row[6] == \"warm_cpu_to_warm_disk_process\":\n",
    "            power_warm_cpu_to_warm_disk_process.append([float(row[0]),float(row[3])])\n",
    "        if row[6] == \"cold_to_warm_disk_process\":\n",
    "            power_cold_to_warm_disk_process.append([float(row[0]),float(row[3])])\n",
    "        if row[6] == \"warm_disk_to_null_process\":\n",
    "            power_warm_disk_to_null_process.append([float(row[0]),float(row[3])])"
   ]
  },
  {
   "cell_type": "code",
   "execution_count": null,
   "id": "a0535137",
   "metadata": {},
   "outputs": [
    {
     "ename": "",
     "evalue": "",
     "output_type": "error",
     "traceback": [
      "\u001b[1;31mJupyter cannot be started. Error attempting to locate Jupyter: Select an Interpreter to start Jupyter\n",
      "\u001b[1;31mRun the following command to install 'jupyter and notebook' into the Python environment. \n",
      "\u001b[1;31mCommand: 'python -m pip install jupyter notebook -U\n",
      "\u001b[1;31mor\n",
      "\u001b[1;31mconda install jupyter notebook -U'\n",
      "\u001b[1;31mClick <a href='https://aka.ms/installJupyterForVSCode'>here</a> for more info."
     ]
    }
   ],
   "source": [
    "# caculate energy null_to_warm_disk_proces\n",
    "previos_time = power_null_to_warm_disk_process[0][0]\n",
    "previos_power = power_null_to_warm_disk_process[0][1]\n",
    "energy_null_to_warm_disk_process = 0\n",
    "for i in range(1, len(power_null_to_warm_disk_process)):\n",
    "    current_energy = (power_null_to_warm_disk_process[i][0] - previos_time)*previos_power\n",
    "    energy_null_to_warm_disk_process += current_energy\n",
    "    previos_time = power_null_to_warm_disk_process[i][0]\n",
    "    previos_power = power_null_to_warm_disk_process[i][1]\n",
    "\n",
    "# caculate energy warm_disk_to_warm_cpu_process\n",
    "previos_time = power_warm_disk_to_warm_cpu_process[0][0]\n",
    "previos_power = power_warm_disk_to_warm_cpu_process[0][1]\n",
    "energy_warm_disk_to_warm_cpu_process = 0\n",
    "for i in range(1, len(power_warm_disk_to_warm_cpu_process)):\n",
    "    current_energy = (power_warm_disk_to_warm_cpu_process[i][0] - previos_time)*previos_power\n",
    "    energy_warm_disk_to_warm_cpu_process += current_energy\n",
    "    previos_time = power_warm_disk_to_warm_cpu_process[i][0]\n",
    "    previos_power = power_warm_disk_to_warm_cpu_process[i][1]\n",
    "\n",
    "\n",
    "# caculate energy warm_cpu_to_warm_disk_process\n",
    "previos_time = power_warm_cpu_to_warm_disk_process[0][0]\n",
    "previos_power = power_warm_cpu_to_warm_disk_process[0][1]\n",
    "energy_warm_cpu_to_warm_disk_process = 0\n",
    "for i in range(1, len(power_warm_cpu_to_warm_disk_process)):\n",
    "    current_energy = (power_warm_cpu_to_warm_disk_process[i][0] - previos_time)*previos_power\n",
    "    energy_warm_cpu_to_warm_disk_process += current_energy\n",
    "    previos_time = power_warm_cpu_to_warm_disk_process[i][0]\n",
    "    previos_power = power_warm_cpu_to_warm_disk_process[i][1]\n",
    "\n",
    "\n",
    "# caculate energy cold_to_warm_disk_process\n",
    "previos_time = power_cold_to_warm_disk_process[0][0]\n",
    "previos_power = power_cold_to_warm_disk_process[0][1]\n",
    "energy_cold_to_warm_disk_process = 0\n",
    "for i in range(1, len(power_cold_to_warm_disk_process)):\n",
    "    current_energy = (power_cold_to_warm_disk_process[i][0] - previos_time)*previos_power\n",
    "    energy_cold_to_warm_disk_process += current_energy\n",
    "    previos_time = power_cold_to_warm_disk_process[i][0]\n",
    "    previos_power = power_cold_to_warm_disk_process[i][1]\n",
    "\n",
    "# caculate energy warm_disk_to_null_process\n",
    "previos_time = power_warm_disk_to_null_process[0][0]\n",
    "previos_power = power_warm_disk_to_null_process[0][1]\n",
    "energy_warm_disk_to_null_process = 0\n",
    "for i in range(1, len(power_warm_disk_to_null_process)):\n",
    "    current_energy = (power_warm_disk_to_null_process[i][0] - previos_time)*previos_power\n",
    "    energy_warm_disk_to_null_process += current_energy\n",
    "    previos_time = power_warm_disk_to_null_process[i][0]\n",
    "    previos_power = power_warm_disk_to_null_process[i][1]\n"
   ]
  },
  {
   "cell_type": "code",
   "execution_count": null,
   "id": "3b01cc07",
   "metadata": {},
   "outputs": [
    {
     "ename": "",
     "evalue": "",
     "output_type": "error",
     "traceback": [
      "\u001b[1;31mJupyter cannot be started. Error attempting to locate Jupyter: Select an Interpreter to start Jupyter\n",
      "\u001b[1;31mRun the following command to install 'jupyter and notebook' into the Python environment. \n",
      "\u001b[1;31mCommand: 'python -m pip install jupyter notebook -U\n",
      "\u001b[1;31mor\n",
      "\u001b[1;31mconda install jupyter notebook -U'\n",
      "\u001b[1;31mClick <a href='https://aka.ms/installJupyterForVSCode'>here</a> for more info."
     ]
    }
   ],
   "source": [
    "data = [energy_null_to_warm_disk_process, energy_warm_disk_to_warm_cpu_process,\n",
    "        energy_warm_cpu_to_warm_disk_process, energy_cold_to_warm_disk_process, energy_warm_disk_to_null_process]\n",
    "fig7, ax7 = plot.subplots()\n",
    "ax7.set_title('Energy in process')\n",
    "ax7.set_ylabel(\"Energy(J)\")\n",
    "plot.xticks(rotation = 20)\n",
    "ax7.bar([\"null to warm disk\", \"warm disk to warm cpu\",\n",
    "            \"warm cpu to warm disk\", \"cold to warm disk\", \"warm disk to null\"],data)\n",
    "plot.show()"
   ]
  },
  {
   "cell_type": "code",
   "execution_count": null,
   "id": "93220d9d",
   "metadata": {},
   "outputs": [
    {
     "ename": "",
     "evalue": "",
     "output_type": "error",
     "traceback": [
      "\u001b[1;31mJupyter cannot be started. Error attempting to locate Jupyter: Select an Interpreter to start Jupyter\n",
      "\u001b[1;31mRun the following command to install 'jupyter and notebook' into the Python environment. \n",
      "\u001b[1;31mCommand: 'python -m pip install jupyter notebook -U\n",
      "\u001b[1;31mor\n",
      "\u001b[1;31mconda install jupyter notebook -U'\n",
      "\u001b[1;31mClick <a href='https://aka.ms/installJupyterForVSCode'>here</a> for more info."
     ]
    }
   ],
   "source": [
    "time_null_to_warm_disk_process = power_null_to_warm_disk_process[-1][0] - power_null_to_warm_disk_process[0][0]\n",
    "time_warm_disk_to_warm_cpu_process = power_warm_disk_to_warm_cpu_process[-1][0] - power_warm_disk_to_warm_cpu_process[0][0]\n",
    "time_warm_cpu_to_warm_disk_process = power_warm_cpu_to_warm_disk_process[-1][0] - power_warm_cpu_to_warm_disk_process[0][0]\n",
    "time_cold_to_warm_disk_process = power_cold_to_warm_disk_process[-1][0] - power_cold_to_warm_disk_process[0][0]\n",
    "time_warm_disk_to_null_process = power_warm_disk_to_null_process[-1][0] - power_warm_disk_to_null_process[0][0]\n",
    "data = [time_null_to_warm_disk_process, time_warm_disk_to_warm_cpu_process,\n",
    "        time_warm_cpu_to_warm_disk_process, time_cold_to_warm_disk_process, time_warm_disk_to_null_process]\n",
    "fig8, ax8 = plot.subplots()\n",
    "ax8.set_title('Time in process')\n",
    "ax8.set_ylabel(\"Time(s)\")\n",
    "plot.xticks(rotation = 20)\n",
    "ax8.bar([\"null to warm disk\", \"warm disk to warm cpu\",\n",
    "            \"warm cpu to warm disk\", \"cold to warm disk\", \"warm disk to null\"],data)\n",
    "plot.show()"
   ]
  }
 ],
 "metadata": {
  "kernelspec": {
   "display_name": "Python 3",
   "language": "python",
   "name": "python3"
  },
  "language_info": {
   "name": "python",
   "version": "3.8.10"
  },
  "vscode": {
   "interpreter": {
    "hash": "916dbcbb3f70747c44a77c7bcd40155683ae19c65e1c03b4aa3499c5328201f1"
   }
  }
 },
 "nbformat": 4,
 "nbformat_minor": 5
}
